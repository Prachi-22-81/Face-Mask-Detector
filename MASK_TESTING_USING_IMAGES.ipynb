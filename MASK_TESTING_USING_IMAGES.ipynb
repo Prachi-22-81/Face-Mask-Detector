{
 "cells": [
  {
   "cell_type": "code",
   "execution_count": 1,
   "id": "24c71ad2",
   "metadata": {},
   "outputs": [],
   "source": [
    "from tensorflow.keras.applications.mobilenet_v2 import preprocess_input\n",
    "from tensorflow.keras.preprocessing.image import img_to_array\n",
    "from tensorflow.keras.models import load_model\n",
    "import numpy as np\n",
    "import cv2\n",
    "import os"
   ]
  },
  {
   "cell_type": "code",
   "execution_count": 2,
   "id": "a8e00cee",
   "metadata": {},
   "outputs": [],
   "source": [
    "prototxtPath=os.path.sep.join([r'C:\\Users\\Nishtha Negi\\Downloads\\Mask-Detection-and-Recognition-using-Deep-Learning-Keras-master\\Mask-Detection-and-Recognition-using-Deep-Learning-Keras-master','deploy.prototxt'])\n",
    "weightsPath=os.path.sep.join([r'C:\\Users\\Nishtha Negi\\Downloads\\Mask-Detection-and-Recognition-using-Deep-Learning-Keras-master\\Mask-Detection-and-Recognition-using-Deep-Learning-Keras-master','res10_300x300_ssd_iter_140000.caffemodel'])"
   ]
  },
  {
   "cell_type": "code",
   "execution_count": 3,
   "id": "43f520df",
   "metadata": {},
   "outputs": [],
   "source": [
    "net=cv2.dnn.readNet(prototxtPath,weightsPath)"
   ]
  },
  {
   "cell_type": "code",
   "execution_count": 4,
   "id": "1ed92c3a",
   "metadata": {},
   "outputs": [],
   "source": [
    "model=load_model(r'C:\\model_save\\mobilenet_v2.model')"
   ]
  },
  {
   "cell_type": "code",
   "execution_count": 5,
   "id": "1e0432be",
   "metadata": {},
   "outputs": [],
   "source": [
    "image=cv2.imread(r'C:\\Users\\Nishtha Negi\\Downloads\\Mask-Detection-and-Recognition-using-Deep-Learning-Keras-master\\Mask-Detection-and-Recognition-using-Deep-Learning-Keras-master\\example_01.png')\n",
    "#image=cv2.imread(r'test_img.jpg')"
   ]
  },
  {
   "cell_type": "code",
   "execution_count": 6,
   "id": "806101a4",
   "metadata": {},
   "outputs": [
    {
     "data": {
      "text/plain": [
       "array([[[186, 183, 145],\n",
       "        [186, 184, 144],\n",
       "        [186, 184, 144],\n",
       "        ...,\n",
       "        [223, 220, 215],\n",
       "        [223, 220, 215],\n",
       "        [223, 220, 215]],\n",
       "\n",
       "       [[184, 183, 145],\n",
       "        [184, 183, 145],\n",
       "        [184, 183, 145],\n",
       "        ...,\n",
       "        [223, 220, 215],\n",
       "        [223, 220, 215],\n",
       "        [223, 220, 215]],\n",
       "\n",
       "       [[182, 181, 146],\n",
       "        [182, 181, 146],\n",
       "        [183, 182, 144],\n",
       "        ...,\n",
       "        [223, 220, 215],\n",
       "        [223, 220, 215],\n",
       "        [223, 220, 215]],\n",
       "\n",
       "       ...,\n",
       "\n",
       "       [[ 90,  87,  77],\n",
       "        [ 90,  87,  77],\n",
       "        [ 91,  88,  78],\n",
       "        ...,\n",
       "        [106, 102,  96],\n",
       "        [106, 102,  96],\n",
       "        [106, 102,  96]],\n",
       "\n",
       "       [[ 90,  87,  77],\n",
       "        [ 91,  88,  78],\n",
       "        [ 91,  88,  78],\n",
       "        ...,\n",
       "        [105, 101,  95],\n",
       "        [105, 101,  95],\n",
       "        [105, 101,  95]],\n",
       "\n",
       "       [[ 90,  87,  77],\n",
       "        [ 91,  88,  78],\n",
       "        [ 91,  88,  78],\n",
       "        ...,\n",
       "        [104, 100,  94],\n",
       "        [104, 100,  94],\n",
       "        [104, 100,  94]]], dtype=uint8)"
      ]
     },
     "execution_count": 6,
     "metadata": {},
     "output_type": "execute_result"
    }
   ],
   "source": [
    "image"
   ]
  },
  {
   "cell_type": "code",
   "execution_count": 7,
   "id": "a6ae3a1f",
   "metadata": {},
   "outputs": [],
   "source": [
    "(h,w)=image.shape[:2]"
   ]
  },
  {
   "cell_type": "code",
   "execution_count": 8,
   "id": "0a29bb56",
   "metadata": {},
   "outputs": [
    {
     "data": {
      "text/plain": [
       "(500, 600)"
      ]
     },
     "execution_count": 8,
     "metadata": {},
     "output_type": "execute_result"
    }
   ],
   "source": [
    "(h,w)"
   ]
  },
  {
   "cell_type": "code",
   "execution_count": 9,
   "id": "7cd355e3",
   "metadata": {},
   "outputs": [],
   "source": [
    "blob=cv2.dnn.blobFromImage(image,1.0,(500,500),(104.0,177.0,123.0))"
   ]
  },
  {
   "cell_type": "code",
   "execution_count": 10,
   "id": "1cb21b5b",
   "metadata": {},
   "outputs": [],
   "source": [
    "net.setInput(blob)\n",
    "detections=net.forward()"
   ]
  },
  {
   "cell_type": "code",
   "execution_count": 11,
   "id": "97a152d2",
   "metadata": {},
   "outputs": [
    {
     "name": "stdout",
     "output_type": "stream",
     "text": [
      "1/1 [==============================] - 7s 7s/step\n"
     ]
    }
   ],
   "source": [
    "for i in range(0,detections.shape[2]):\n",
    "    confidence=detections[0,0,i,2]\n",
    "    \n",
    "    \n",
    "    if confidence>0.5:\n",
    "        #we need the X,Y coordinates\n",
    "        box=detections[0,0,i,3:7]*np.array([w,h,w,h])\n",
    "        (startX,startY,endX,endY)=box.astype('int')\n",
    "        \n",
    "        #ensure the bounding boxes fall within the dimensions of the frame\n",
    "        (startX,startY)=(max(0,startX),max(0,startY))\n",
    "        (endX,endY)=(min(w-1,endX), min(h-1,endY))\n",
    "        \n",
    "        \n",
    "        #extract the face ROI, convert it from BGR to RGB channel, resize it to 224,224 and preprocess it\n",
    "        face=image[startY:endY, startX:endX]\n",
    "        face=cv2.cvtColor(face,cv2.COLOR_BGR2RGB)\n",
    "        face=cv2.resize(face,(224,224))\n",
    "        face=img_to_array(face)\n",
    "        face=preprocess_input(face)\n",
    "        face=np.expand_dims(face,axis=0)\n",
    "        \n",
    "        (mask,withoutMask)=model.predict(face)[0]\n",
    "        \n",
    "        #determine the class label and color we will use to draw the bounding box and text\n",
    "        label='Mask' if mask>withoutMask else 'No Mask'\n",
    "        color=(0,255,0) if label=='Mask' else (0,0,255)\n",
    "        \n",
    "        #include the probability in the label\n",
    "        label=\"{}: {:.2f}%\".format(label,max(mask,withoutMask)*100)\n",
    "        \n",
    "        #display the label and bounding boxes\n",
    "        cv2.putText(image,label,(startX,startY-10),cv2.FONT_HERSHEY_SIMPLEX,0.45,color,2)\n",
    "        cv2.rectangle(image,(startX,startY),(endX,endY),color,2)"
   ]
  },
  {
   "cell_type": "code",
   "execution_count": 12,
   "id": "da7ab760",
   "metadata": {},
   "outputs": [],
   "source": [
    "cv2.imshow(\"OutPut\",image)\n",
    "cv2.waitKey(0)\n",
    "cv2.destroyAllWindows()"
   ]
  },
  {
   "cell_type": "code",
   "execution_count": null,
   "id": "cd09c899",
   "metadata": {},
   "outputs": [],
   "source": []
  }
 ],
 "metadata": {
  "kernelspec": {
   "display_name": "Python 3 (ipykernel)",
   "language": "python",
   "name": "python3"
  },
  "language_info": {
   "codemirror_mode": {
    "name": "ipython",
    "version": 3
   },
   "file_extension": ".py",
   "mimetype": "text/x-python",
   "name": "python",
   "nbconvert_exporter": "python",
   "pygments_lexer": "ipython3",
   "version": "3.9.7"
  }
 },
 "nbformat": 4,
 "nbformat_minor": 5
}
